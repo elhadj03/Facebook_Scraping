{
 "cells": [
  {
   "cell_type": "code",
   "execution_count": 11,
   "metadata": {},
   "outputs": [
    {
     "name": "stdout",
     "output_type": "stream",
     "text": [
      "[\"L'ancien Président de la République Jacques Chirac est mort à l'âge de 86 ans, vient d'annoncer sa famille😢\"]\n"
     ]
    }
   ],
   "source": [
    "import requests\n",
    "import os\n",
    "import bs4 as bs\n",
    "#Package pour mettre les données en CSV puis JSON et puis les inserer sur MongoDB\n",
    "import csv, json\n",
    "import pandas as pd\n",
    "import pymongo\n",
    "#Package Pouvoir se connecter et recuperer les commentaires et les images \n",
    "from selenium import webdriver\n",
    "from selenium.webdriver.common.keys import Keys\n",
    "from selenium.webdriver.chrome.options import Options\n",
    "from time import sleep\n",
    "\n",
    "\n",
    "#Information de connexion\n",
    "payload = {\n",
    "        'username' : 'Elhadjtest Kaisens',\n",
    "        'password' : 'teste2020'\n",
    "    }\n",
    "\n",
    "authentification = \" http://www.facebook.com/login?\"\n",
    "#Mettre les sorties dans une liste\n",
    "text = [] #recupere le texte du post\n",
    "\n",
    "#Se connecter avec la methode Session de requests pour recuperer le texte du post\n",
    "with requests.Session() as session:\n",
    "        post = session.post(authentification, data=payload)\n",
    "        page = 'https://m.facebook.com/Rirechansons/posts/10156911280547481'\n",
    "        source = requests.get(page).text\n",
    "        soup = bs.BeautifulSoup(source, \"html.parser\")\n",
    "        text_post = soup.p.text #le texte se trouve dans une balise p\n",
    "        text.append(text_post) #ajouter la sortie dans notre liste dédiée\n",
    "        print(text)\n",
    "       "
   ]
  },
  {
   "cell_type": "code",
   "execution_count": 12,
   "metadata": {},
   "outputs": [],
   "source": [
    "#Gerer la partie commentaire et image avec du python orienté objet\n",
    "\n",
    "class FaceBookBot :\n",
    "    \n",
    "    def __init__(self):\n",
    "        options = webdriver.ChromeOptions() #lancer le driver de chrome\n",
    "        options.add_argument('--disable-notifications') #desactiver les popups\n",
    "        self.driver = webdriver.Chrome(options=options)\n",
    "    \n",
    "    #Entrer sur le site de facebook pour pouvoir saisir ses identifiants de connexion\n",
    "    def login(self,username, password) :\n",
    "        self.driver.get (\" http://www.facebook.com/login?\") \n",
    "        sleep(2)\n",
    "        email_in = self.driver.find_element_by_xpath('//*[@id=\"email\"]')\n",
    "        email_in.send_Keys(username)\n",
    "        \n",
    "        password_in = self.driver.find_element_by_xpath('//*[@id=\"password\"]')\n",
    "        email_in.send_Keys(password)\n",
    "        \n",
    "        login_btn = self.driver.find_element_by_xpath('//*[@id=\"loginbutton\"]')\n",
    "        login_btn.click()\n",
    "        \n",
    "        sleep(2)\n"
   ]
  },
  {
   "cell_type": "markdown",
   "metadata": {},
   "source": [
    "### Partie Driver"
   ]
  },
  {
   "cell_type": "code",
   "execution_count": 24,
   "metadata": {},
   "outputs": [],
   "source": [
    "bot = FaceBookBot() # lancer le driver de chrome\n",
    "#saisir ses identifiants de connexion\n",
    "#bot.login(username,password)\n",
    "bot.driver.get(\"https://m.facebook.com/story/graphql_permalink/?graphql_id=UzpfSTYzMjQwOTcyNDgwOjEwMTU2OTExMjgwNTQ3NDgx\")\n",
    "page = bot.driver.page_source"
   ]
  },
  {
   "cell_type": "code",
   "execution_count": 14,
   "metadata": {},
   "outputs": [],
   "source": [
    "#Partie pour les commentaires et les images : le blockage de mon adresse IP par facebook est devenu un frein \n",
    "#meme si j'ai vu par la suite que je pouvais passer par facebook developper creer une app et recuperer le token \n",
    "\n",
    "#def pageComments(page):\n",
    "#    resp = requests.get(page)\n",
    "#    pageComments = []\n",
    "    #if resp:\n",
    "       # tables = soup.findAll('div', {'class': 'ed ce cf'})\n",
    "       # print(tables.text())\n",
    "        #for table in tables:\n",
    "            #comment = table.find('div', {'class': 'eg'}\n",
    "            #print(comment)\n",
    "            #pageComments.append(comment)\n",
    "    #return pageComments"
   ]
  },
  {
   "cell_type": "code",
   "execution_count": 20,
   "metadata": {},
   "outputs": [
    {
     "data": {
      "text/html": [
       "<div>\n",
       "<style scoped>\n",
       "    .dataframe tbody tr th:only-of-type {\n",
       "        vertical-align: middle;\n",
       "    }\n",
       "\n",
       "    .dataframe tbody tr th {\n",
       "        vertical-align: top;\n",
       "    }\n",
       "\n",
       "    .dataframe thead th {\n",
       "        text-align: right;\n",
       "    }\n",
       "</style>\n",
       "<table border=\"1\" class=\"dataframe\">\n",
       "  <thead>\n",
       "    <tr style=\"text-align: right;\">\n",
       "      <th></th>\n",
       "      <th>L'ancien Président de la République Jacques Chirac est mort à l'âge de 86 ans, vient d'annoncer sa famille😢</th>\n",
       "    </tr>\n",
       "  </thead>\n",
       "  <tbody>\n",
       "  </tbody>\n",
       "</table>\n",
       "</div>"
      ],
      "text/plain": [
       "Empty DataFrame\n",
       "Columns: [L'ancien Président de la République Jacques Chirac est mort à l'âge de 86 ans, vient d'annoncer sa famille😢]\n",
       "Index: []"
      ]
     },
     "execution_count": 20,
     "metadata": {},
     "output_type": "execute_result"
    }
   ],
   "source": [
    "#Recuperation et Affichage des Dataframe\n",
    "test_df = pd.DataFrame({\n",
    "       'comment' : text\n",
    "   })\n",
    "#print (len(head))\n",
    "#print (test_df)\n",
    "test_df.to_csv(\"facebook_comment.csv\", index= False, header = None)\n",
    "test_df.rename(columns=test_df.iloc[0]).drop(test_df.index[0])"
   ]
  },
  {
   "cell_type": "code",
   "execution_count": 21,
   "metadata": {},
   "outputs": [],
   "source": [
    "#Conversion de CSV en JSON\n",
    "df = pd.read_csv('facebook_comment.csv', encoding = \"utf-8\")   # loading csv file\n",
    "df.to_json('facebook_comment.json')                               # saving to json file\n",
    "fbc = open('facebook_comment.json').read()                        # loading the json file \n",
    "data = json.loads(fbc)                                    # reading json file "
   ]
  },
  {
   "cell_type": "code",
   "execution_count": 22,
   "metadata": {},
   "outputs": [
    {
     "data": {
      "text/plain": [
       "{\"L'ancien Président de la République Jacques Chirac est mort à l'âge de 86 ans, vient d'annoncer sa famille😢\": {}}"
      ]
     },
     "execution_count": 22,
     "metadata": {},
     "output_type": "execute_result"
    }
   ],
   "source": [
    "data"
   ]
  },
  {
   "cell_type": "code",
   "execution_count": 23,
   "metadata": {},
   "outputs": [],
   "source": [
    "##Mettre les donnees dans Mongo\n",
    "mng_client = pymongo.MongoClient('localhost', 27017)\n",
    "mng_db = mng_client['facebook'] # nom de la base mongo\n",
    "collection_name = 'collections' # mongo db collection name\n",
    "db_cm = mng_db[collection_name]\n",
    "with open('facebook_comment.json') as f:\n",
    "    file_data = json.load(f)\n",
    "    #a = db_cm.insert_one(data) #cette sortie permet d'inserer le texte du fichier json dans la base mongodb \n",
    "    #client.close()"
   ]
  },
  {
   "cell_type": "code",
   "execution_count": 26,
   "metadata": {},
   "outputs": [],
   "source": [
    "# Autre methode pour recuperer les elements d'un post\n",
    "bot = FaceBookBot() # lancer le driver de chrome\n",
    "bot.post_ID = \"10156911280547481\"\n",
    "#print(bot.post_content())\n",
    "#print(bot.post_shares())\n",
    "#print(bot.post_likess())"
   ]
  },
  {
   "cell_type": "code",
   "execution_count": null,
   "metadata": {},
   "outputs": [],
   "source": []
  }
 ],
 "metadata": {
  "kernelspec": {
   "display_name": "Python 3",
   "language": "python",
   "name": "python3"
  },
  "language_info": {
   "codemirror_mode": {
    "name": "ipython",
    "version": 3
   },
   "file_extension": ".py",
   "mimetype": "text/x-python",
   "name": "python",
   "nbconvert_exporter": "python",
   "pygments_lexer": "ipython3",
   "version": "3.7.9"
  }
 },
 "nbformat": 4,
 "nbformat_minor": 4
}
